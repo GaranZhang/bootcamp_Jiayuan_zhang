{
 "cells": [
  {
   "cell_type": "code",
   "execution_count": null,
   "id": "59c404e9",
   "metadata": {},
   "outputs": [
    {
     "name": "stdout",
     "output_type": "stream",
     "text": [
      "Feature-engineered file saved to ..\\data\\processed\\seagate_features.csv\n",
      "         date       price    Return       MA_5  Volatility_5     RSI_14\n",
      "0  2025-02-24   98.742737 -0.007635        NaN           NaN        NaN\n",
      "1  2025-02-25   98.387543 -0.003597        NaN           NaN        NaN\n",
      "2  2025-02-26   98.930191  0.005515        NaN           NaN        NaN\n",
      "3  2025-02-27   99.324852  0.003989        NaN           NaN        NaN\n",
      "4  2025-02-28  100.548286  0.012318  99.186722      0.007856        NaN\n",
      "5  2025-03-03   98.723000 -0.018153  99.182774      0.011625        NaN\n",
      "6  2025-03-05   91.194954 -0.017538  97.744257      0.014113        NaN\n",
      "7  2025-03-07   86.824142  0.015697  95.323047      0.016190        NaN\n",
      "8  2025-03-10   85.255394 -0.018068  92.509155      0.017530        NaN\n",
      "9  2025-03-11   85.807915  0.006481  89.561081      0.016221        NaN\n",
      "10 2025-03-12   85.571121 -0.002760  86.930705      0.014813        NaN\n",
      "11 2025-03-13   84.475952 -0.012798  85.586905      0.013785        NaN\n",
      "12 2025-03-14   86.725487  0.026629  85.567174      0.017670        NaN\n",
      "13 2025-03-17   89.300613  0.029693  86.376218      0.018424  30.744488\n",
      "14 2025-03-18   87.455597 -0.020661  86.705754      0.022958  28.592832\n"
     ]
    }
   ],
   "source": [
    "import pandas as pd\n",
    "import numpy as np\n",
    "from pathlib import Path\n",
    "\n",
    "\n",
    "processed_dir = Path(\"../data/processed\")\n",
    "df = pd.read_csv(processed_dir / \"seagate_no_outliers.csv\", parse_dates=[\"date\"])\n",
    "\n",
    "\n",
    "if \"Return\" not in df.columns:\n",
    "    df[\"Return\"] = df[\"price\"].pct_change()\n",
    "\n",
    "\n",
    "# Feature Engineering\n",
    "\n",
    "# 1. Log Return\n",
    "df[\"LogReturn\"] = np.log(df[\"price\"] / df[\"price\"].shift(1))\n",
    "\n",
    "# 2. Cumulative Return\n",
    "df[\"CumReturn\"] = (1 + df[\"Return\"]).cumprod() - 1\n",
    "\n",
    "# 3. Lag Features\n",
    "for lag in [1, 2, 5]:\n",
    "    df[f\"Return_Lag{lag}\"] = df[\"Return\"].shift(lag)\n",
    "\n",
    "# 4. Moving Averages\n",
    "for window in [5, 10, 20]:\n",
    "    df[f\"MA_{window}\"] = df[\"price\"].rolling(window).mean()\n",
    "\n",
    "# 5. Rolling Volatility\n",
    "for window in [5, 20]:\n",
    "    df[f\"Volatility_{window}\"] = df[\"Return\"].rolling(window).std()\n",
    "\n",
    "# 6. Bollinger Bands (20-day)\n",
    "df[\"BB_Mid\"] = df[\"price\"].rolling(20).mean()\n",
    "df[\"BB_Upper\"] = df[\"BB_Mid\"] + 2 * df[\"price\"].rolling(20).std()\n",
    "df[\"BB_Lower\"] = df[\"BB_Mid\"] - 2 * df[\"price\"].rolling(20).std()\n",
    "\n",
    "# 7. RSI (14-day)\n",
    "window = 14\n",
    "delta = df[\"price\"].diff()\n",
    "gain = np.where(delta > 0, delta, 0)\n",
    "loss = np.where(delta < 0, -delta, 0)\n",
    "avg_gain = pd.Series(gain).rolling(window).mean()\n",
    "avg_loss = pd.Series(loss).rolling(window).mean()\n",
    "rs = avg_gain / (avg_loss + 1e-9)  # 避免除0\n",
    "df[\"RSI_14\"] = 100 - (100 / (1 + rs))\n",
    "\n",
    "\n",
    "# Save engineered dataset\n",
    "\n",
    "df.to_csv(processed_dir / \"seagate_features.csv\", index=False)\n",
    "print(f\"Feature-engineered file saved to {processed_dir/'seagate_features.csv'}\")\n",
    "\n",
    "\n",
    "print(df[[\"date\",\"price\",\"Return\",\"MA_5\",\"Volatility_5\",\"RSI_14\"]].head(15))\n"
   ]
  }
 ],
 "metadata": {
  "kernelspec": {
   "display_name": "fe-course",
   "language": "python",
   "name": "python3"
  },
  "language_info": {
   "codemirror_mode": {
    "name": "ipython",
    "version": 3
   },
   "file_extension": ".py",
   "mimetype": "text/x-python",
   "name": "python",
   "nbconvert_exporter": "python",
   "pygments_lexer": "ipython3",
   "version": "3.11.13"
  }
 },
 "nbformat": 4,
 "nbformat_minor": 5
}
