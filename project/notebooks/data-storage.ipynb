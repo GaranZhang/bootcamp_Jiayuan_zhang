{
 "cells": [
  {
   "cell_type": "code",
   "execution_count": 1,
   "id": "d5d6270f",
   "metadata": {},
   "outputs": [
    {
     "data": {
      "text/html": [
       "<div>\n",
       "<style scoped>\n",
       "    .dataframe tbody tr th:only-of-type {\n",
       "        vertical-align: middle;\n",
       "    }\n",
       "\n",
       "    .dataframe tbody tr th {\n",
       "        vertical-align: top;\n",
       "    }\n",
       "\n",
       "    .dataframe thead th {\n",
       "        text-align: right;\n",
       "    }\n",
       "</style>\n",
       "<table border=\"1\" class=\"dataframe\">\n",
       "  <thead>\n",
       "    <tr style=\"text-align: right;\">\n",
       "      <th></th>\n",
       "      <th>date</th>\n",
       "      <th>ticker</th>\n",
       "      <th>price</th>\n",
       "    </tr>\n",
       "  </thead>\n",
       "  <tbody>\n",
       "    <tr>\n",
       "      <th>0</th>\n",
       "      <td>2024-01-01</td>\n",
       "      <td>STX</td>\n",
       "      <td>80.871492</td>\n",
       "    </tr>\n",
       "    <tr>\n",
       "      <th>1</th>\n",
       "      <td>2024-01-02</td>\n",
       "      <td>STX</td>\n",
       "      <td>80.875791</td>\n",
       "    </tr>\n",
       "    <tr>\n",
       "      <th>2</th>\n",
       "      <td>2024-01-03</td>\n",
       "      <td>STX</td>\n",
       "      <td>81.315401</td>\n",
       "    </tr>\n",
       "    <tr>\n",
       "      <th>3</th>\n",
       "      <td>2024-01-04</td>\n",
       "      <td>STX</td>\n",
       "      <td>81.631618</td>\n",
       "    </tr>\n",
       "    <tr>\n",
       "      <th>4</th>\n",
       "      <td>2024-01-05</td>\n",
       "      <td>STX</td>\n",
       "      <td>82.622357</td>\n",
       "    </tr>\n",
       "  </tbody>\n",
       "</table>\n",
       "</div>"
      ],
      "text/plain": [
       "        date ticker      price\n",
       "0 2024-01-01    STX  80.871492\n",
       "1 2024-01-02    STX  80.875791\n",
       "2 2024-01-03    STX  81.315401\n",
       "3 2024-01-04    STX  81.631618\n",
       "4 2024-01-05    STX  82.622357"
      ]
     },
     "execution_count": 1,
     "metadata": {},
     "output_type": "execute_result"
    }
   ],
   "source": [
    "# Stage 05: Data Storage\n",
    "# -----------------------\n",
    "# Store Seagate (STX) sample data into CSV and Parquet\n",
    "\n",
    "import numpy as np\n",
    "import pandas as pd\n",
    "import pathlib, datetime as dt\n",
    "import typing as t\n",
    "\n",
    "# --- Paths (relative to notebooks/) ---\n",
    "RAW = pathlib.Path(\"../data/raw\"); RAW.mkdir(parents=True, exist_ok=True)\n",
    "PROC = pathlib.Path(\"../data/processed\"); PROC.mkdir(parents=True, exist_ok=True)\n",
    "\n",
    "def ts(): \n",
    "    return dt.datetime.now().strftime(\"%Y%m%d-%H%M%S\")\n",
    "\n",
    "# --- Step 1: Generate sample data for STX (Seagate) ---\n",
    "dates = pd.date_range(\"2024-01-01\", periods=20, freq=\"D\")\n",
    "df = pd.DataFrame({\n",
    "    \"date\": dates, \n",
    "    \"ticker\": [\"STX\"]*20, \n",
    "    \"price\": 80 + np.random.randn(20).cumsum()\n",
    "})\n",
    "df.head()\n"
   ]
  },
  {
   "cell_type": "code",
   "execution_count": 2,
   "id": "c8c51730",
   "metadata": {},
   "outputs": [
    {
     "name": "stdout",
     "output_type": "stream",
     "text": [
      "Saved CSV: ..\\data\\raw\\sample_20250820-234113.csv\n",
      "Saved Parquet: ..\\data\\processed\\sample_20250820-234113.parquet\n"
     ]
    }
   ],
   "source": [
    "# --- Step 2: Save CSV ---\n",
    "csv_path = RAW / f\"sample_{ts()}.csv\"\n",
    "df.to_csv(csv_path, index=False)\n",
    "print(\"Saved CSV:\", csv_path)\n",
    "\n",
    "# --- Step 3: Save Parquet ---\n",
    "pq_path = PROC / f\"sample_{ts()}.parquet\"\n",
    "try:\n",
    "    df.to_parquet(pq_path)\n",
    "    print(\"Saved Parquet:\", pq_path)\n",
    "except Exception as e:\n",
    "    print(\"Parquet engine not available. Install pyarrow or fastparquet to complete this step.\")\n",
    "    pq_path = None\n"
   ]
  },
  {
   "cell_type": "code",
   "execution_count": 3,
   "id": "879c7efc",
   "metadata": {},
   "outputs": [
    {
     "name": "stdout",
     "output_type": "stream",
     "text": [
      "Validation CSV: {'shape_equal': True, 'date_is_datetime': True, 'price_is_numeric': True}\n",
      "Validation Parquet: {'shape_equal': True, 'date_is_datetime': True, 'price_is_numeric': True}\n"
     ]
    }
   ],
   "source": [
    "# --- Step 4: Validation after reload ---\n",
    "def validate_loaded(original, reloaded):\n",
    "    checks = {\n",
    "        \"shape_equal\": original.shape == reloaded.shape,\n",
    "        \"date_is_datetime\": pd.api.types.is_datetime64_any_dtype(reloaded[\"date\"]) if \"date\" in reloaded.columns else False,\n",
    "        \"price_is_numeric\": pd.api.types.is_numeric_dtype(reloaded[\"price\"]) if \"price\" in reloaded.columns else False,\n",
    "    }\n",
    "    return checks\n",
    "\n",
    "df_csv = pd.read_csv(csv_path, parse_dates=[\"date\"])\n",
    "print(\"Validation CSV:\", validate_loaded(df, df_csv))\n",
    "\n",
    "if pq_path:\n",
    "    try:\n",
    "        df_pq = pd.read_parquet(pq_path)\n",
    "        print(\"Validation Parquet:\", validate_loaded(df, df_pq))\n",
    "    except Exception as e:\n",
    "        print(\"Parquet read failed:\", e)\n"
   ]
  },
  {
   "cell_type": "code",
   "execution_count": 4,
   "id": "762ed0b8",
   "metadata": {},
   "outputs": [],
   "source": [
    "# --- Step 5: Generalized Utility Functions ---\n",
    "def detect_format(path: t.Union[str, pathlib.Path]):\n",
    "    s = str(path).lower()\n",
    "    if s.endswith(\".csv\"): return \"csv\"\n",
    "    if s.endswith(\".parquet\") or s.endswith(\".pq\") or s.endswith(\".parq\"): return \"parquet\"\n",
    "    raise ValueError(\"Unsupported format: \" + s)\n",
    "\n",
    "def write_df(df: pd.DataFrame, path: t.Union[str, pathlib.Path]):\n",
    "    p = pathlib.Path(path); p.parent.mkdir(parents=True, exist_ok=True)\n",
    "    fmt = detect_format(p)\n",
    "    if fmt == \"csv\":\n",
    "        df.to_csv(p, index=False)\n",
    "    else:\n",
    "        try:\n",
    "            df.to_parquet(p)\n",
    "        except Exception as e:\n",
    "            raise RuntimeError(\"Parquet engine not available. Install pyarrow or fastparquet.\") from e\n",
    "    return p\n",
    "\n",
    "def read_df(path: t.Union[str, pathlib.Path]):\n",
    "    p = pathlib.Path(path)\n",
    "    fmt = detect_format(p)\n",
    "    if fmt == \"csv\":\n",
    "        return pd.read_csv(p, parse_dates=[\"date\"]) if \"date\" in pd.read_csv(p, nrows=0).columns else pd.read_csv(p)\n",
    "    else:\n",
    "        try:\n",
    "            return pd.read_parquet(p)\n",
    "        except Exception as e:\n",
    "            raise RuntimeError(\"Parquet engine not available. Install pyarrow or fastparquet.\") from e\n"
   ]
  },
  {
   "cell_type": "code",
   "execution_count": 5,
   "id": "57104030",
   "metadata": {},
   "outputs": [
    {
     "name": "stdout",
     "output_type": "stream",
     "text": [
      "Utility CSV loaded:\n",
      "         date ticker      price\n",
      "0 2024-01-01    STX  80.871492\n",
      "1 2024-01-02    STX  80.875791\n",
      "2 2024-01-03    STX  81.315401\n",
      "3 2024-01-04    STX  81.631618\n",
      "4 2024-01-05    STX  82.622357\n",
      "Utility Parquet loaded:\n",
      "         date ticker      price\n",
      "0 2024-01-01    STX  80.871492\n",
      "1 2024-01-02    STX  80.875791\n",
      "2 2024-01-03    STX  81.315401\n",
      "3 2024-01-04    STX  81.631618\n",
      "4 2024-01-05    STX  82.622357\n"
     ]
    }
   ],
   "source": [
    "# --- Step 6: Demo of Utilities ---\n",
    "p_csv = RAW / f\"util_{ts()}.csv\"\n",
    "p_pq  = PROC / f\"util_{ts()}.parquet\"\n",
    "\n",
    "# Write + Read CSV\n",
    "write_df(df, p_csv)\n",
    "print(\"Utility CSV loaded:\\n\", read_df(p_csv).head())\n",
    "\n",
    "# Write + Read Parquet\n",
    "try:\n",
    "    write_df(df, p_pq)\n",
    "    print(\"Utility Parquet loaded:\\n\", read_df(p_pq).head())\n",
    "except RuntimeError as e:\n",
    "    print(\"Skipping Parquet util demo:\", e)\n"
   ]
  }
 ],
 "metadata": {
  "kernelspec": {
   "display_name": "fe-course",
   "language": "python",
   "name": "python3"
  },
  "language_info": {
   "codemirror_mode": {
    "name": "ipython",
    "version": 3
   },
   "file_extension": ".py",
   "mimetype": "text/x-python",
   "name": "python",
   "nbconvert_exporter": "python",
   "pygments_lexer": "ipython3",
   "version": "3.11.13"
  }
 },
 "nbformat": 4,
 "nbformat_minor": 5
}
