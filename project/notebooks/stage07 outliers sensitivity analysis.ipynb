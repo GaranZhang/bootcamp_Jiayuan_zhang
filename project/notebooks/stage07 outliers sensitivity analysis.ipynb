{
 "cells": [
  {
   "cell_type": "code",
   "execution_count": null,
   "id": "57fd6cfd",
   "metadata": {},
   "outputs": [
    {
     "name": "stdout",
     "output_type": "stream",
     "text": [
      "Data sample with Return:\n"
     ]
    },
    {
     "data": {
      "text/html": [
       "<div>\n",
       "<style scoped>\n",
       "    .dataframe tbody tr th:only-of-type {\n",
       "        vertical-align: middle;\n",
       "    }\n",
       "\n",
       "    .dataframe tbody tr th {\n",
       "        vertical-align: top;\n",
       "    }\n",
       "\n",
       "    .dataframe thead th {\n",
       "        text-align: right;\n",
       "    }\n",
       "</style>\n",
       "<table border=\"1\" class=\"dataframe\">\n",
       "  <thead>\n",
       "    <tr style=\"text-align: right;\">\n",
       "      <th></th>\n",
       "      <th>date</th>\n",
       "      <th>price</th>\n",
       "      <th>ticker</th>\n",
       "      <th>Return</th>\n",
       "    </tr>\n",
       "  </thead>\n",
       "  <tbody>\n",
       "    <tr>\n",
       "      <th>0</th>\n",
       "      <td>2025-02-24</td>\n",
       "      <td>98.742737</td>\n",
       "      <td>STX</td>\n",
       "      <td>-0.007635</td>\n",
       "    </tr>\n",
       "    <tr>\n",
       "      <th>1</th>\n",
       "      <td>2025-02-25</td>\n",
       "      <td>98.387543</td>\n",
       "      <td>STX</td>\n",
       "      <td>-0.003597</td>\n",
       "    </tr>\n",
       "    <tr>\n",
       "      <th>2</th>\n",
       "      <td>2025-02-26</td>\n",
       "      <td>98.930191</td>\n",
       "      <td>STX</td>\n",
       "      <td>0.005515</td>\n",
       "    </tr>\n",
       "    <tr>\n",
       "      <th>3</th>\n",
       "      <td>2025-02-27</td>\n",
       "      <td>99.324852</td>\n",
       "      <td>STX</td>\n",
       "      <td>0.003989</td>\n",
       "    </tr>\n",
       "    <tr>\n",
       "      <th>4</th>\n",
       "      <td>2025-02-28</td>\n",
       "      <td>100.548286</td>\n",
       "      <td>STX</td>\n",
       "      <td>0.012318</td>\n",
       "    </tr>\n",
       "  </tbody>\n",
       "</table>\n",
       "</div>"
      ],
      "text/plain": [
       "        date       price ticker    Return\n",
       "0 2025-02-24   98.742737    STX -0.007635\n",
       "1 2025-02-25   98.387543    STX -0.003597\n",
       "2 2025-02-26   98.930191    STX  0.005515\n",
       "3 2025-02-27   99.324852    STX  0.003989\n",
       "4 2025-02-28  100.548286    STX  0.012318"
      ]
     },
     "metadata": {},
     "output_type": "display_data"
    },
    {
     "name": "stdout",
     "output_type": "stream",
     "text": [
      "Fraction flagged as outliers (IQR): 0.08064516129032258\n",
      "Fraction flagged as outliers (Z-score): 0.024193548387096774\n"
     ]
    },
    {
     "data": {
      "image/png": "[encoded data removed]",
      "text/plain": [
       "<Figure size 600x400 with 1 Axes>"
      ]
     },
     "metadata": {},
     "output_type": "display_data"
    },
    {
     "data": {
      "image/png": "[encoded data removed]",
      "text/plain": [
       "<Figure size 600x400 with 1 Axes>"
      ]
     },
     "metadata": {},
     "output_type": "display_data"
    },
    {
     "name": "stdout",
     "output_type": "stream",
     "text": [
      "Summary comparison:\n"
     ]
    },
    {
     "data": {
      "text/html": [
       "<div>\n",
       "<style scoped>\n",
       "    .dataframe tbody tr th:only-of-type {\n",
       "        vertical-align: middle;\n",
       "    }\n",
       "\n",
       "    .dataframe tbody tr th {\n",
       "        vertical-align: top;\n",
       "    }\n",
       "\n",
       "    .dataframe thead th {\n",
       "        text-align: right;\n",
       "    }\n",
       "</style>\n",
       "<table border=\"1\" class=\"dataframe\">\n",
       "  <thead>\n",
       "    <tr style=\"text-align: right;\">\n",
       "      <th></th>\n",
       "      <th>all</th>\n",
       "      <th>filtered_iqr</th>\n",
       "      <th>winsorized</th>\n",
       "    </tr>\n",
       "  </thead>\n",
       "  <tbody>\n",
       "    <tr>\n",
       "      <th>mean</th>\n",
       "      <td>0.004246</td>\n",
       "      <td>0.004520</td>\n",
       "      <td>0.004617</td>\n",
       "    </tr>\n",
       "    <tr>\n",
       "      <th>median</th>\n",
       "      <td>0.003318</td>\n",
       "      <td>0.003318</td>\n",
       "      <td>0.003318</td>\n",
       "    </tr>\n",
       "    <tr>\n",
       "      <th>std</th>\n",
       "      <td>0.031216</td>\n",
       "      <td>0.018298</td>\n",
       "      <td>0.020256</td>\n",
       "    </tr>\n",
       "  </tbody>\n",
       "</table>\n",
       "</div>"
      ],
      "text/plain": [
       "             all  filtered_iqr  winsorized\n",
       "mean    0.004246      0.004520    0.004617\n",
       "median  0.003318      0.003318    0.003318\n",
       "std     0.031216      0.018298    0.020256"
      ]
     },
     "metadata": {},
     "output_type": "display_data"
    },
    {
     "name": "stdout",
     "output_type": "stream",
     "text": [
      "Processed file saved to C:\\Users\\10341\\bootcamp_Jiayuan_zhang\\project\\data\\processed\\seagate_no_outliers.csv\n"
     ]
    }
   ],
   "source": [
    "\n",
    "import os, sys\n",
    "from pathlib import Path\n",
    "\n",
    "PROJECT_ROOT = Path(\"..\").resolve()\n",
    "SRC_DIR = PROJECT_ROOT / \"src\"\n",
    "\n",
    "\n",
    "if str(PROJECT_ROOT) not in sys.path:\n",
    "    sys.path.insert(0, str(PROJECT_ROOT))\n",
    "\n",
    "SRC_DIR.mkdir(exist_ok=True, parents=True)\n",
    "init_file = SRC_DIR / \"__init__.py\"\n",
    "if not init_file.exists():\n",
    "    init_file.write_text(\"\")  \n",
    "\n",
    "\n",
    "import pandas as pd\n",
    "import matplotlib.pyplot as plt\n",
    "from IPython.display import display\n",
    "\n",
    "\n",
    "from src.features import add_returns\n",
    "from src.outliers import detect_outliers_iqr, detect_outliers_zscore, winsorize_series\n",
    "\n",
    "\n",
    "raw_dir = PROJECT_ROOT / \"data\" / \"raw\"\n",
    "processed_dir = PROJECT_ROOT / \"data\" / \"processed\"\n",
    "os.makedirs(processed_dir, exist_ok=True)\n",
    "\n",
    "\n",
    "csv_path = raw_dir / \"STX_prices_20250820-234954.csv\"  \n",
    "df = pd.read_csv(csv_path, parse_dates=[\"date\"])\n",
    "\n",
    "\n",
    "df = add_returns(df, price_col=\"price\").dropna().reset_index(drop=True)\n",
    "\n",
    "print(\"Data sample with Return:\")\n",
    "display(df.head())\n",
    "\n",
    "\n",
    "df[\"outlier_iqr\"] = detect_outliers_iqr(df[\"Return\"])\n",
    "df[\"outlier_z\"] = detect_outliers_zscore(df[\"Return\"], threshold=3.0)\n",
    "\n",
    "print(\"Fraction flagged as outliers (IQR):\", df[\"outlier_iqr\"].mean())\n",
    "print(\"Fraction flagged as outliers (Z-score):\", df[\"outlier_z\"].mean())\n",
    "\n",
    "\n",
    "\n",
    "plt.figure(figsize=(6,4))\n",
    "plt.boxplot(df[\"Return\"], vert=True)\n",
    "plt.title(\"Boxplot of Seagate Returns\")\n",
    "plt.show()\n",
    "\n",
    "plt.figure(figsize=(6,4))\n",
    "plt.hist(df[\"Return\"], bins=40)\n",
    "plt.title(\"Histogram of Seagate Returns\")\n",
    "plt.show()\n",
    "\n",
    "\n",
    "\n",
    "summ_all = df[\"Return\"].describe()[[\"mean\", \"50%\", \"std\"]].rename({\"50%\": \"median\"})\n",
    "summ_filtered = df.loc[~df[\"outlier_iqr\"], \"Return\"].describe()[[\"mean\", \"50%\", \"std\"]].rename({\"50%\": \"median\"})\n",
    "w = winsorize_series(df[\"Return\"])\n",
    "summ_w = w.describe()[[\"mean\", \"50%\", \"std\"]].rename({\"50%\": \"median\"})\n",
    "\n",
    "comp = pd.concat(\n",
    "    {\"all\": summ_all, \"filtered_iqr\": summ_filtered, \"winsorized\": summ_w},\n",
    "    axis=1\n",
    ")\n",
    "\n",
    "print(\"Summary comparison:\")\n",
    "display(comp)\n",
    "\n",
    "\n",
    "\n",
    "df_filtered = df.loc[~df[\"outlier_iqr\"]].copy()\n",
    "out_path = processed_dir / \"seagate_no_outliers.csv\"\n",
    "df_filtered.to_csv(out_path, index=False)\n",
    "print(f\"Processed file saved to {out_path}\")\n"
   ]
  }
 ],
 "metadata": {
  "kernelspec": {
   "display_name": "fe-course",
   "language": "python",
   "name": "python3"
  },
  "language_info": {
   "codemirror_mode": {
    "name": "ipython",
    "version": 3
   },
   "file_extension": ".py",
   "mimetype": "text/x-python",
   "name": "python",
   "nbconvert_exporter": "python",
   "pygments_lexer": "ipython3",
   "version": "3.11.13"
  }
 },
 "nbformat": 4,
 "nbformat_minor": 5
}
