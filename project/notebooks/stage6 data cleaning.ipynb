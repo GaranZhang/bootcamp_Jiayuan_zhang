{
 "cells": [
  {
   "cell_type": "code",
   "execution_count": null,
   "id": "8257ec8c",
   "metadata": {},
   "outputs": [],
   "source": [
    "import pandas as pd\n",
    "import pathlib\n",
    "\n",
    "BASE = pathlib.Path(\"..\") / \"data\"\n",
    "RAW = BASE / \"raw\"\n",
    "PROC = BASE / \"processed\"\n",
    "\n",
    "RAW.mkdir(parents=True, exist_ok=True)\n",
    "PROC.mkdir(parents=True, exist_ok=True)\n",
    "\n",
    "print(\"RAW path:\", RAW.resolve())\n",
    "print(\"PROC path:\", PROC.resolve())\n"
   ]
  },
  {
   "cell_type": "code",
   "execution_count": null,
   "id": "ea92ba44",
   "metadata": {},
   "outputs": [],
   "source": [
    "\n",
    "csv_files = sorted(RAW.glob(\"sample_*.csv\"))\n",
    "pq_files = sorted(PROC.glob(\"sample_*.parquet\"))\n",
    "\n",
    "print(\"CSV files found:\", csv_files)\n",
    "print(\"Parquet files found:\", pq_files)\n",
    "\n",
    "df_csv = pd.read_csv(csv_files[-1], parse_dates=[\"date\"]) if csv_files else None\n",
    "df_pq  = pd.read_parquet(pq_files[-1]) if pq_files else None\n",
    "\n",
    "df = df_pq if df_pq is not None else df_csv\n",
    "df.head()\n"
   ]
  },
  {
   "cell_type": "code",
   "execution_count": null,
   "id": "d1431276",
   "metadata": {},
   "outputs": [],
   "source": [
    "\n",
    "df_clean = drop_missing(df, threshold=0.5)\n",
    "\n",
    "\n",
    "df_clean = fill_missing_median(df_clean, [\"price\"])\n",
    "\n",
    "\n",
    "df_clean = normalize_data(df_clean, [\"price\"])\n",
    "\n",
    "df_clean.head(10)\n"
   ]
  },
  {
   "cell_type": "code",
   "execution_count": null,
   "id": "6690507f",
   "metadata": {},
   "outputs": [],
   "source": [
    "cleaned_path_csv = PROC / \"sample_cleaned.csv\"\n",
    "cleaned_path_pq  = PROC / \"sample_cleaned.parquet\"\n",
    "\n",
    "df_clean.to_csv(cleaned_path_csv, index=False)\n",
    "try:\n",
    "    df_clean.to_parquet(cleaned_path_pq)\n",
    "except Exception as e:\n",
    "    print(\"Parquet save failed:\", e)\n",
    "\n",
    "print(\"Cleaned CSV saved to:\", cleaned_path_csv.resolve())\n",
    "print(\"Cleaned Parquet saved to:\", cleaned_path_pq.resolve())\n"
   ]
  }
 ],
 "metadata": {
  "language_info": {
   "name": "python"
  }
 },
 "nbformat": 4,
 "nbformat_minor": 5
}
