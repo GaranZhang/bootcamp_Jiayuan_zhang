{
 "cells": [
  {
   "cell_type": "code",
   "execution_count": 14,
   "id": "8257ec8c",
   "metadata": {},
   "outputs": [
    {
     "name": "stdout",
     "output_type": "stream",
     "text": [
      "ROOT: C:\\Users\\10341\\bootcamp_Jiayuan_zhang\\project\n",
      "RAW : C:\\Users\\10341\\bootcamp_Jiayuan_zhang\\project\\data\\raw\n",
      "PROC: C:\\Users\\10341\\bootcamp_Jiayuan_zhang\\project\\data\\processed\n",
      "SRC : C:\\Users\\10341\\bootcamp_Jiayuan_zhang\\project\\src\n"
     ]
    }
   ],
   "source": [
    "import sys\n",
    "from pathlib import Path\n",
    "\n",
    "\n",
    "ROOT = Path(\"..\").resolve()\n",
    "RAW = ROOT / \"data\" / \"raw\"\n",
    "PROC = ROOT / \"data\" / \"processed\"\n",
    "SRC = ROOT / \"src\"\n",
    "\n",
    "\n",
    "PROC.mkdir(parents=True, exist_ok=True)\n",
    "\n",
    "(SRC / \"__init__.py\").touch(exist_ok=True)\n",
    "if str(ROOT) not in sys.path:\n",
    "    sys.path.insert(0, str(ROOT))\n",
    "\n",
    "print(\"ROOT:\", ROOT)\n",
    "print(\"RAW :\", RAW)\n",
    "print(\"PROC:\", PROC)\n",
    "print(\"SRC :\", SRC)\n",
    "\n"
   ]
  },
  {
   "cell_type": "code",
   "execution_count": 15,
   "id": "05722727",
   "metadata": {},
   "outputs": [],
   "source": [
    "import pandas as pd\n",
    "from src.cleaning import drop_missing, fill_missing_median, normalize_data  # 来自你的 cleaning.py\n",
    "import datetime as dt\n",
    "\n",
    "def ts():\n",
    "    return dt.datetime.now().strftime(\"%Y%m%d-%H%M%S\")\n"
   ]
  },
  {
   "cell_type": "code",
   "execution_count": 16,
   "id": "ea92ba44",
   "metadata": {},
   "outputs": [
    {
     "name": "stdout",
     "output_type": "stream",
     "text": [
      "Using latest CSV: STX_prices_20250820-234954.csv\n"
     ]
    },
    {
     "data": {
      "text/html": [
       "<div>\n",
       "<style scoped>\n",
       "    .dataframe tbody tr th:only-of-type {\n",
       "        vertical-align: middle;\n",
       "    }\n",
       "\n",
       "    .dataframe tbody tr th {\n",
       "        vertical-align: top;\n",
       "    }\n",
       "\n",
       "    .dataframe thead th {\n",
       "        text-align: right;\n",
       "    }\n",
       "</style>\n",
       "<table border=\"1\" class=\"dataframe\">\n",
       "  <thead>\n",
       "    <tr style=\"text-align: right;\">\n",
       "      <th></th>\n",
       "      <th>date</th>\n",
       "      <th>price</th>\n",
       "      <th>ticker</th>\n",
       "    </tr>\n",
       "  </thead>\n",
       "  <tbody>\n",
       "    <tr>\n",
       "      <th>0</th>\n",
       "      <td>2025-02-21</td>\n",
       "      <td>99.502449</td>\n",
       "      <td>STX</td>\n",
       "    </tr>\n",
       "    <tr>\n",
       "      <th>1</th>\n",
       "      <td>2025-02-24</td>\n",
       "      <td>98.742737</td>\n",
       "      <td>STX</td>\n",
       "    </tr>\n",
       "    <tr>\n",
       "      <th>2</th>\n",
       "      <td>2025-02-25</td>\n",
       "      <td>98.387543</td>\n",
       "      <td>STX</td>\n",
       "    </tr>\n",
       "    <tr>\n",
       "      <th>3</th>\n",
       "      <td>2025-02-26</td>\n",
       "      <td>98.930191</td>\n",
       "      <td>STX</td>\n",
       "    </tr>\n",
       "    <tr>\n",
       "      <th>4</th>\n",
       "      <td>2025-02-27</td>\n",
       "      <td>99.324852</td>\n",
       "      <td>STX</td>\n",
       "    </tr>\n",
       "  </tbody>\n",
       "</table>\n",
       "</div>"
      ],
      "text/plain": [
       "        date      price ticker\n",
       "0 2025-02-21  99.502449    STX\n",
       "1 2025-02-24  98.742737    STX\n",
       "2 2025-02-25  98.387543    STX\n",
       "3 2025-02-26  98.930191    STX\n",
       "4 2025-02-27  99.324852    STX"
      ]
     },
     "metadata": {},
     "output_type": "display_data"
    },
    {
     "name": "stdout",
     "output_type": "stream",
     "text": [
      "date      datetime64[ns]\n",
      "price            float64\n",
      "ticker            object\n",
      "dtype: object\n"
     ]
    }
   ],
   "source": [
    "\n",
    "csv_files = list(RAW.glob(\"*.csv\"))\n",
    "if not csv_files:\n",
    "    raise FileNotFoundError(\" No CSV files found in ../data/raw . plz finish stage 04 and 05。\")\n",
    "\n",
    "latest_csv = max(csv_files, key=lambda p: p.stat().st_mtime)\n",
    "print(\"Using latest CSV:\", latest_csv.name)\n",
    "\n",
    "df = pd.read_csv(latest_csv, parse_dates=[\"date\"])\n",
    "df[\"price\"] = pd.to_numeric(df.get(\"price\"), errors=\"coerce\")\n",
    "if \"ticker\" in df.columns:\n",
    "    df[\"ticker\"] = df[\"ticker\"].astype(str)\n",
    "\n",
    "display(df.head())\n",
    "print(df.dtypes)\n"
   ]
  },
  {
   "cell_type": "code",
   "execution_count": 17,
   "id": "736dba5a",
   "metadata": {},
   "outputs": [
    {
     "name": "stdout",
     "output_type": "stream",
     "text": [
      "missing value counts：\n",
      " date      0\n",
      "price     0\n",
      "ticker    0\n",
      "dtype: int64\n"
     ]
    },
    {
     "data": {
      "text/html": [
       "<div>\n",
       "<style scoped>\n",
       "    .dataframe tbody tr th:only-of-type {\n",
       "        vertical-align: middle;\n",
       "    }\n",
       "\n",
       "    .dataframe tbody tr th {\n",
       "        vertical-align: top;\n",
       "    }\n",
       "\n",
       "    .dataframe thead th {\n",
       "        text-align: right;\n",
       "    }\n",
       "</style>\n",
       "<table border=\"1\" class=\"dataframe\">\n",
       "  <thead>\n",
       "    <tr style=\"text-align: right;\">\n",
       "      <th></th>\n",
       "      <th>date</th>\n",
       "      <th>price</th>\n",
       "      <th>ticker</th>\n",
       "    </tr>\n",
       "  </thead>\n",
       "  <tbody>\n",
       "    <tr>\n",
       "      <th>0</th>\n",
       "      <td>2025-02-21</td>\n",
       "      <td>0.360106</td>\n",
       "      <td>STX</td>\n",
       "    </tr>\n",
       "    <tr>\n",
       "      <th>1</th>\n",
       "      <td>2025-02-24</td>\n",
       "      <td>0.351894</td>\n",
       "      <td>STX</td>\n",
       "    </tr>\n",
       "    <tr>\n",
       "      <th>2</th>\n",
       "      <td>2025-02-25</td>\n",
       "      <td>0.348054</td>\n",
       "      <td>STX</td>\n",
       "    </tr>\n",
       "    <tr>\n",
       "      <th>3</th>\n",
       "      <td>2025-02-26</td>\n",
       "      <td>0.353920</td>\n",
       "      <td>STX</td>\n",
       "    </tr>\n",
       "    <tr>\n",
       "      <th>4</th>\n",
       "      <td>2025-02-27</td>\n",
       "      <td>0.358186</td>\n",
       "      <td>STX</td>\n",
       "    </tr>\n",
       "    <tr>\n",
       "      <th>5</th>\n",
       "      <td>2025-02-28</td>\n",
       "      <td>0.371411</td>\n",
       "      <td>STX</td>\n",
       "    </tr>\n",
       "    <tr>\n",
       "      <th>6</th>\n",
       "      <td>2025-03-03</td>\n",
       "      <td>0.351680</td>\n",
       "      <td>STX</td>\n",
       "    </tr>\n",
       "    <tr>\n",
       "      <th>7</th>\n",
       "      <td>2025-03-04</td>\n",
       "      <td>0.287904</td>\n",
       "      <td>STX</td>\n",
       "    </tr>\n",
       "    <tr>\n",
       "      <th>8</th>\n",
       "      <td>2025-03-05</td>\n",
       "      <td>0.270306</td>\n",
       "      <td>STX</td>\n",
       "    </tr>\n",
       "    <tr>\n",
       "      <th>9</th>\n",
       "      <td>2025-03-06</td>\n",
       "      <td>0.208556</td>\n",
       "      <td>STX</td>\n",
       "    </tr>\n",
       "  </tbody>\n",
       "</table>\n",
       "</div>"
      ],
      "text/plain": [
       "        date     price ticker\n",
       "0 2025-02-21  0.360106    STX\n",
       "1 2025-02-24  0.351894    STX\n",
       "2 2025-02-25  0.348054    STX\n",
       "3 2025-02-26  0.353920    STX\n",
       "4 2025-02-27  0.358186    STX\n",
       "5 2025-02-28  0.371411    STX\n",
       "6 2025-03-03  0.351680    STX\n",
       "7 2025-03-04  0.287904    STX\n",
       "8 2025-03-05  0.270306    STX\n",
       "9 2025-03-06  0.208556    STX"
      ]
     },
     "metadata": {},
     "output_type": "display_data"
    }
   ],
   "source": [
    "\n",
    "df_clean = drop_missing(df, threshold=0.5)\n",
    "\n",
    "df_clean = fill_missing_median(df_clean, [\"price\"])\n",
    "\n",
    "df_clean = normalize_data(df_clean, [\"price\"])\n",
    "\n",
    "print(\"missing value counts：\\n\", df_clean.isna().sum())\n",
    "display(df_clean.head(10))\n",
    "\n"
   ]
  },
  {
   "cell_type": "code",
   "execution_count": 18,
   "id": "d1431276",
   "metadata": {},
   "outputs": [
    {
     "name": "stdout",
     "output_type": "stream",
     "text": [
      " Cleaned CSV saved to: C:\\Users\\10341\\bootcamp_Jiayuan_zhang\\project\\data\\processed\\STX_prices_clean_20250821-002216.csv\n",
      "Parquet saved to: C:\\Users\\10341\\bootcamp_Jiayuan_zhang\\project\\data\\processed\\STX_prices_clean_20250821-002216.parquet\n"
     ]
    }
   ],
   "source": [
    "out_csv = PROC / f\"STX_prices_clean_{ts()}.csv\"\n",
    "df_clean.to_csv(out_csv, index=False)\n",
    "\n",
    "print(\" Cleaned CSV saved to:\", out_csv)\n",
    "\n",
    "try:\n",
    "    out_pq = PROC / f\"STX_prices_clean_{ts()}.parquet\"\n",
    "    df_clean.to_parquet(out_pq)\n",
    "    print(\"Parquet saved to:\", out_pq)\n",
    "except Exception as e:\n",
    "    print(\" Parquet save skipped:\", e)\n",
    "\n"
   ]
  }
 ],
 "metadata": {
  "kernelspec": {
   "display_name": "fe-course",
   "language": "python",
   "name": "python3"
  },
  "language_info": {
   "codemirror_mode": {
    "name": "ipython",
    "version": 3
   },
   "file_extension": ".py",
   "mimetype": "text/x-python",
   "name": "python",
   "nbconvert_exporter": "python",
   "pygments_lexer": "ipython3",
   "version": "3.11.13"
  }
 },
 "nbformat": 4,
 "nbformat_minor": 5
}
