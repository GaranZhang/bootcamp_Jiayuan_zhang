{
 "cells": [
  {
   "cell_type": "code",
   "execution_count": 11,
   "id": "18cb7ed9",
   "metadata": {},
   "outputs": [
    {
     "name": "stdout",
     "output_type": "stream",
     "text": [
      "Data folders: C:\\Users\\10341\\bootcamp_Jiayuan_zhang\\project\\data\\raw C:\\Users\\10341\\bootcamp_Jiayuan_zhang\\project\\data\\processed\n"
     ]
    }
   ],
   "source": [
    "# --- Setup paths ---\n",
    "import os, pathlib, datetime as dt\n",
    "import pandas as pd\n",
    "import yfinance as yf\n",
    "\n",
    "# Project paths (relative to notebook folder)\n",
    "ROOT = pathlib.Path(\"..\").resolve()\n",
    "DATA = ROOT / \"data\"\n",
    "RAW = DATA / \"raw\"\n",
    "PROC = DATA / \"processed\"\n",
    "for p in [RAW, PROC]:\n",
    "    p.mkdir(parents=True, exist_ok=True)\n",
    "\n",
    "print(\"Data folders:\", RAW, PROC)\n"
   ]
  },
  {
   "cell_type": "code",
   "execution_count": 12,
   "id": "5d0a2da4",
   "metadata": {},
   "outputs": [],
   "source": [
    "# --- Utility timestamp function ---\n",
    "def ts():\n",
    "    return dt.datetime.now().strftime('%Y%m%d-%H%M%S')\n"
   ]
  },
  {
   "cell_type": "code",
   "execution_count": 13,
   "id": "e8378074",
   "metadata": {},
   "outputs": [
    {
     "name": "stderr",
     "output_type": "stream",
     "text": [
      "C:\\Users\\10341\\AppData\\Local\\Temp\\ipykernel_18828\\1089588335.py:3: FutureWarning: YF.download() has changed argument auto_adjust default to True\n",
      "  df = yf.download(TICKER, period=\"6mo\", interval=\"1d\").reset_index()[['Date','Close']]\n",
      "[*********************100%***********************]  1 of 1 completed\n"
     ]
    },
    {
     "data": {
      "text/html": [
       "<div>\n",
       "<style scoped>\n",
       "    .dataframe tbody tr th:only-of-type {\n",
       "        vertical-align: middle;\n",
       "    }\n",
       "\n",
       "    .dataframe tbody tr th {\n",
       "        vertical-align: top;\n",
       "    }\n",
       "\n",
       "    .dataframe thead th {\n",
       "        text-align: right;\n",
       "    }\n",
       "</style>\n",
       "<table border=\"1\" class=\"dataframe\">\n",
       "  <thead>\n",
       "    <tr style=\"text-align: right;\">\n",
       "      <th></th>\n",
       "      <th>date</th>\n",
       "      <th>price</th>\n",
       "      <th>ticker</th>\n",
       "    </tr>\n",
       "  </thead>\n",
       "  <tbody>\n",
       "    <tr>\n",
       "      <th>0</th>\n",
       "      <td>2025-02-21</td>\n",
       "      <td>99.502449</td>\n",
       "      <td>STX</td>\n",
       "    </tr>\n",
       "    <tr>\n",
       "      <th>1</th>\n",
       "      <td>2025-02-24</td>\n",
       "      <td>98.742737</td>\n",
       "      <td>STX</td>\n",
       "    </tr>\n",
       "    <tr>\n",
       "      <th>2</th>\n",
       "      <td>2025-02-25</td>\n",
       "      <td>98.387543</td>\n",
       "      <td>STX</td>\n",
       "    </tr>\n",
       "    <tr>\n",
       "      <th>3</th>\n",
       "      <td>2025-02-26</td>\n",
       "      <td>98.930191</td>\n",
       "      <td>STX</td>\n",
       "    </tr>\n",
       "    <tr>\n",
       "      <th>4</th>\n",
       "      <td>2025-02-27</td>\n",
       "      <td>99.324852</td>\n",
       "      <td>STX</td>\n",
       "    </tr>\n",
       "  </tbody>\n",
       "</table>\n",
       "</div>"
      ],
      "text/plain": [
       "        date      price ticker\n",
       "0 2025-02-21  99.502449    STX\n",
       "1 2025-02-24  98.742737    STX\n",
       "2 2025-02-25  98.387543    STX\n",
       "3 2025-02-26  98.930191    STX\n",
       "4 2025-02-27  99.324852    STX"
      ]
     },
     "execution_count": 13,
     "metadata": {},
     "output_type": "execute_result"
    }
   ],
   "source": [
    "# --- Stage 04: Data Acquisition (Seagate stock prices) ---\n",
    "TICKER = \"STX\"  # Seagate Technology\n",
    "df = yf.download(TICKER, period=\"6mo\", interval=\"1d\").reset_index()[['Date','Close']]\n",
    "df.columns = ['date','price']\n",
    "df['ticker'] = TICKER\n",
    "\n",
    "df.head()\n"
   ]
  },
  {
   "cell_type": "code",
   "execution_count": 14,
   "id": "f532f65e",
   "metadata": {},
   "outputs": [
    {
     "name": "stdout",
     "output_type": "stream",
     "text": [
      "Saved raw CSV: C:\\Users\\10341\\bootcamp_Jiayuan_zhang\\project\\data\\raw\\STX_prices_20250820-234954.csv\n"
     ]
    }
   ],
   "source": [
    "# Save raw CSV\n",
    "csv_path = RAW / f\"{TICKER}_prices_{ts()}.csv\"\n",
    "df.to_csv(csv_path, index=False)\n",
    "print(\"Saved raw CSV:\", csv_path)\n"
   ]
  },
  {
   "cell_type": "code",
   "execution_count": 15,
   "id": "1440763d",
   "metadata": {},
   "outputs": [],
   "source": [
    "# --- Stage 05: Data Storage & Validation ---\n",
    "def validate_loaded(original, reloaded):\n",
    "    checks = {\n",
    "        'shape_equal': original.shape == reloaded.shape,\n",
    "        'date_is_datetime': pd.api.types.is_datetime64_any_dtype(reloaded['date']) if 'date' in reloaded.columns else False,\n",
    "        'price_is_numeric': pd.api.types.is_numeric_dtype(reloaded['price']) if 'price' in reloaded.columns else False,\n",
    "        'ticker_is_string': reloaded['ticker'].dtype == 'object' if 'ticker' in reloaded.columns else False\n",
    "    }\n",
    "    return checks\n"
   ]
  },
  {
   "cell_type": "code",
   "execution_count": 16,
   "id": "8c18cb20",
   "metadata": {},
   "outputs": [
    {
     "name": "stdout",
     "output_type": "stream",
     "text": [
      "Saved processed CSV: C:\\Users\\10341\\bootcamp_Jiayuan_zhang\\project\\data\\processed\\STX_prices_20250820-234954.csv\n",
      "Saved processed Parquet: C:\\Users\\10341\\bootcamp_Jiayuan_zhang\\project\\data\\processed\\STX_prices_20250820-234954.parquet\n"
     ]
    }
   ],
   "source": [
    "# Save CSV and Parquet to processed folder\n",
    "csv_proc = PROC / f\"{TICKER}_prices_{ts()}.csv\"\n",
    "pq_proc  = PROC / f\"{TICKER}_prices_{ts()}.parquet\"\n",
    "\n",
    "df.to_csv(csv_proc, index=False)\n",
    "print(\"Saved processed CSV:\", csv_proc)\n",
    "\n",
    "try:\n",
    "    df.to_parquet(pq_proc)\n",
    "    print(\"Saved processed Parquet:\", pq_proc)\n",
    "except Exception as e:\n",
    "    print(\"Parquet save failed:\", e)\n",
    "    pq_proc = None\n"
   ]
  },
  {
   "cell_type": "code",
   "execution_count": 17,
   "id": "167a0caf",
   "metadata": {},
   "outputs": [
    {
     "name": "stdout",
     "output_type": "stream",
     "text": [
      "CSV Validation: {'shape_equal': True, 'date_is_datetime': True, 'price_is_numeric': True, 'ticker_is_string': True}\n",
      "Parquet Validation: {'shape_equal': True, 'date_is_datetime': True, 'price_is_numeric': True, 'ticker_is_string': True}\n"
     ]
    }
   ],
   "source": [
    "# Reload and validate CSV\n",
    "df_csv = pd.read_csv(csv_proc, parse_dates=['date'])\n",
    "print(\"CSV Validation:\", validate_loaded(df, df_csv))\n",
    "\n",
    "# Reload and validate Parquet\n",
    "if pq_proc:\n",
    "    try:\n",
    "        df_pq = pd.read_parquet(pq_proc)\n",
    "        print(\"Parquet Validation:\", validate_loaded(df, df_pq))\n",
    "    except Exception as e:\n",
    "        print(\"Parquet read failed:\", e)\n"
   ]
  }
 ],
 "metadata": {
  "kernelspec": {
   "display_name": "fe-course",
   "language": "python",
   "name": "python3"
  },
  "language_info": {
   "codemirror_mode": {
    "name": "ipython",
    "version": 3
   },
   "file_extension": ".py",
   "mimetype": "text/x-python",
   "name": "python",
   "nbconvert_exporter": "python",
   "pygments_lexer": "ipython3",
   "version": "3.11.13"
  }
 },
 "nbformat": 4,
 "nbformat_minor": 5
}
