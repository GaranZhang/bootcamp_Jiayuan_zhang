{
 "cells": [
  {
   "cell_type": "code",
   "execution_count": 46,
   "id": "ca95ce93",
   "metadata": {},
   "outputs": [],
   "source": [
    "import numpy as np\n",
    "import pandas as pd\n",
    "import matplotlib.pyplot as plt\n",
    "from pathlib import Path"
   ]
  },
  {
   "cell_type": "code",
   "execution_count": 47,
   "id": "615faaab",
   "metadata": {},
   "outputs": [
    {
     "name": "stdout",
     "output_type": "stream",
     "text": [
      "array [1 2 3 4]\n"
     ]
    }
   ],
   "source": [
    "arr=np.array([1,2,3,4])\n",
    "print(\"array\",arr)"
   ]
  },
  {
   "cell_type": "code",
   "execution_count": 48,
   "id": "f6a01e95",
   "metadata": {},
   "outputs": [
    {
     "name": "stdout",
     "output_type": "stream",
     "text": [
      "2 times array [ 3  6  9 12]\n"
     ]
    }
   ],
   "source": [
    "times=arr*3\n",
    "print(\"2 times array\",times)"
   ]
  },
  {
   "cell_type": "code",
   "execution_count": 49,
   "id": "b343a136",
   "metadata": {},
   "outputs": [],
   "source": [
    "import time"
   ]
  },
  {
   "cell_type": "code",
   "execution_count": 50,
   "id": "686c47ac",
   "metadata": {},
   "outputs": [],
   "source": [
    "start_loop = time.time()\n",
    "loop_result =[x*3 for x in arr] \n",
    "end_loop = time.time()"
   ]
  },
  {
   "cell_type": "code",
   "execution_count": 51,
   "id": "3babf8cd",
   "metadata": {},
   "outputs": [],
   "source": [
    "start_vectorized = time.time()\n",
    "vectiruzed_result = arr*3\n",
    "end_vectorized =time.time()"
   ]
  },
  {
   "cell_type": "code",
   "execution_count": 52,
   "id": "8cd4557b",
   "metadata": {},
   "outputs": [
    {
     "name": "stdout",
     "output_type": "stream",
     "text": [
      "Loop time:0.000000s\n",
      "Vectorized time:0.000000s\n"
     ]
    }
   ],
   "source": [
    "print(f\"Loop time:{end_loop -start_loop:.6f}s\")\n",
    "print(f\"Vectorized time:{end_vectorized - start_vectorized:.6f}s\")"
   ]
  },
  {
   "cell_type": "code",
   "execution_count": 53,
   "id": "e204e2ff",
   "metadata": {},
   "outputs": [
    {
     "name": "stdout",
     "output_type": "stream",
     "text": [
      "\n",
      "Dataset Info:\n",
      "<class 'pandas.core.frame.DataFrame'>\n",
      "RangeIndex: 10 entries, 0 to 9\n",
      "Data columns (total 3 columns):\n",
      " #   Column    Non-Null Count  Dtype \n",
      "---  ------    --------------  ----- \n",
      " 0   category  10 non-null     object\n",
      " 1   value     10 non-null     int64 \n",
      " 2   date      10 non-null     object\n",
      "dtypes: int64(1), object(2)\n",
      "memory usage: 372.0+ bytes\n",
      "None\n"
     ]
    }
   ],
   "source": [
    "data_path = Path(\"starter_data.csv\")\n",
    "df = pd.read_csv(data_path)\n",
    "\n",
    "print(\"\\nDataset Info:\")\n",
    "print(df.info())"
   ]
  },
  {
   "cell_type": "code",
   "execution_count": 54,
   "id": "ebf0fbba",
   "metadata": {},
   "outputs": [
    {
     "name": "stdout",
     "output_type": "stream",
     "text": [
      "  category  value        date\n",
      "0        A     10  2025-08-01\n",
      "1        B     15  2025-08-02\n",
      "2        A     12  2025-08-03\n",
      "3        B     18  2025-08-04\n",
      "4        C     25  2025-08-05\n"
     ]
    }
   ],
   "source": [
    "\n",
    "df = pd.read_csv(\"starter_data.csv\")\n",
    "print(df.head())"
   ]
  },
  {
   "cell_type": "code",
   "execution_count": 55,
   "id": "e58ae1ce",
   "metadata": {},
   "outputs": [
    {
     "name": "stdout",
     "output_type": "stream",
     "text": [
      "\n",
      "Summary statistics:\n",
      "           value\n",
      "count  10.000000\n",
      "mean   17.600000\n",
      "std     7.381659\n",
      "min    10.000000\n",
      "25%    12.250000\n",
      "50%    14.500000\n",
      "75%    23.250000\n",
      "max    30.000000\n"
     ]
    }
   ],
   "source": [
    "summary_stats = df.describe()\n",
    "print(\"\\nSummary statistics:\")\n",
    "print(summary_stats)"
   ]
  },
  {
   "cell_type": "code",
   "execution_count": 56,
   "id": "300cf724",
   "metadata": {},
   "outputs": [
    {
     "name": "stdout",
     "output_type": "stream",
     "text": [
      "\n",
      "Grouped by category:\n",
      "              value\n",
      "category           \n",
      "A         11.500000\n",
      "B         15.666667\n",
      "C         27.666667\n"
     ]
    }
   ],
   "source": [
    "if 'category' in df.columns:\n",
    "    grouped_stats = df.groupby('category').mean(numeric_only=True)\n",
    "    print(\"\\nGrouped by category:\")\n",
    "    print(grouped_stats)\n",
    "else:\n",
    "    print(\"\\nNo 'category' column found, skipping groupby.\")"
   ]
  },
  {
   "cell_type": "code",
   "execution_count": 57,
   "id": "8e579940",
   "metadata": {},
   "outputs": [],
   "source": [
    "output_dir = Path(\"data/processed\")\n",
    "output_dir.mkdir(parents=True, exist_ok=True)"
   ]
  },
  {
   "cell_type": "code",
   "execution_count": 58,
   "id": "c7d12050",
   "metadata": {},
   "outputs": [],
   "source": [
    "summary_stats.to_csv(output_dir / \"summary.csv\")\n",
    "summary_stats.to_json(output_dir / \"summary.json\")"
   ]
  },
  {
   "cell_type": "code",
   "execution_count": 59,
   "id": "28199962",
   "metadata": {},
   "outputs": [],
   "source": [
    "plt.figure(figsize=(6,4))\n",
    "df.select_dtypes(include='number').mean().plot(kind='bar')\n",
    "plt.title(\"Average of Numeric Columns\")\n",
    "plt.tight_layout()\n",
    "plt.savefig(output_dir / \"plot.png\")\n",
    "plt.close()"
   ]
  },
  {
   "cell_type": "code",
   "execution_count": 60,
   "id": "4f23b27e",
   "metadata": {},
   "outputs": [
    {
     "name": "stdout",
     "output_type": "stream",
     "text": [
      "\n",
      "Function output:\n",
      "           value\n",
      "count  10.000000\n",
      "mean   17.600000\n",
      "std     7.381659\n",
      "min    10.000000\n",
      "25%    12.250000\n",
      "50%    14.500000\n",
      "75%    23.250000\n",
      "max    30.000000\n"
     ]
    }
   ],
   "source": [
    "def get_summary_stats(dataframe: pd.DataFrame):\n",
    "    return dataframe.describe()\n",
    "\n",
    "print(\"\\nFunction output:\")\n",
    "print(get_summary_stats(df))"
   ]
  }
 ],
 "metadata": {
  "kernelspec": {
   "display_name": "fe-course",
   "language": "python",
   "name": "python3"
  },
  "language_info": {
   "codemirror_mode": {
    "name": "ipython",
    "version": 3
   },
   "file_extension": ".py",
   "mimetype": "text/x-python",
   "name": "python",
   "nbconvert_exporter": "python",
   "pygments_lexer": "ipython3",
   "version": "3.11.13"
  }
 },
 "nbformat": 4,
 "nbformat_minor": 5
}
