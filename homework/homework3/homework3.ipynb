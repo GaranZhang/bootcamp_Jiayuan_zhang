{
 "cells": [
  {
   "cell_type": "code",
   "execution_count": 20,
   "id": "ca95ce93",
   "metadata": {},
   "outputs": [],
   "source": [
    "import numpy as np\n",
    "import pandas as pd\n",
    "import matplotlib.pyplot as plt"
   ]
  },
  {
   "cell_type": "code",
   "execution_count": 21,
   "id": "615faaab",
   "metadata": {},
   "outputs": [
    {
     "name": "stdout",
     "output_type": "stream",
     "text": [
      "array [1 2 3 4]\n"
     ]
    }
   ],
   "source": [
    "arr=np.array([1,2,3,4])\n",
    "print(\"array\",arr)"
   ]
  },
  {
   "cell_type": "code",
   "execution_count": 22,
   "id": "f6a01e95",
   "metadata": {},
   "outputs": [
    {
     "name": "stdout",
     "output_type": "stream",
     "text": [
      "2 times array [ 3  6  9 12]\n"
     ]
    }
   ],
   "source": [
    "times=arr*3\n",
    "print(\"2 times array\",times)"
   ]
  },
  {
   "cell_type": "code",
   "execution_count": 23,
   "id": "b343a136",
   "metadata": {},
   "outputs": [],
   "source": [
    "import time"
   ]
  },
  {
   "cell_type": "code",
   "execution_count": 24,
   "id": "686c47ac",
   "metadata": {},
   "outputs": [],
   "source": [
    "start_loop = time.time()\n",
    "loop_result =[x*3 for x in arr] \n",
    "end_loop = time.time()"
   ]
  },
  {
   "cell_type": "code",
   "execution_count": 25,
   "id": "3babf8cd",
   "metadata": {},
   "outputs": [],
   "source": [
    "start_vectorized = time.time()\n",
    "vectiruzed_result = arr*3\n",
    "end_vectorized =time.time()"
   ]
  },
  {
   "cell_type": "code",
   "execution_count": 26,
   "id": "8cd4557b",
   "metadata": {},
   "outputs": [
    {
     "name": "stdout",
     "output_type": "stream",
     "text": [
      "Loop time:0.000000s\n",
      "Vectorized time:0.000000s\n"
     ]
    }
   ],
   "source": [
    "print(f\"Loop time:{end_loop -start_loop:.6f}s\")\n",
    "print(f\"Vectorized time:{end_vectorized - start_vectorized:.6f}s\")"
   ]
  }
 ],
 "metadata": {
  "kernelspec": {
   "display_name": "fe-course",
   "language": "python",
   "name": "python3"
  },
  "language_info": {
   "codemirror_mode": {
    "name": "ipython",
    "version": 3
   },
   "file_extension": ".py",
   "mimetype": "text/x-python",
   "name": "python",
   "nbconvert_exporter": "python",
   "pygments_lexer": "ipython3",
   "version": "3.11.13"
  }
 },
 "nbformat": 4,
 "nbformat_minor": 5
}
