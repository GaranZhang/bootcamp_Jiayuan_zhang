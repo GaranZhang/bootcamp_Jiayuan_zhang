{
 "cells": [
  {
   "cell_type": "markdown",
   "metadata": {},
   "source": [
    "# Homework Starter — Stage 6: Data Preprocessing\n",
    "Use this notebook to apply your cleaning functions and save processed data."
   ]
  },
  {
   "cell_type": "code",
   "execution_count": 2,
   "metadata": {},
   "outputs": [],
   "source": [
    "import pandas as pd\n",
    "import os\n",
    "from src import cleaning"
   ]
  },
  {
   "cell_type": "code",
   "execution_count": 3,
   "metadata": {},
   "outputs": [
    {
     "name": "stdout",
     "output_type": "stream",
     "text": [
      "Demo CSV created at data/instructor_dirty.csv\n"
     ]
    }
   ],
   "source": [
    "# Generate CSV if not exists\n",
    "\n",
    "csv_path = 'data/instructor_dirty.csv'\n",
    "os.makedirs('data', exist_ok=True)\n",
    "\n",
    "if not os.path.exists(csv_path):\n",
    "    df_demo = pd.DataFrame({\n",
    "        'numeric_col': [10, None, 40, 55, 70],\n",
    "        'category_col': ['A', 'B', 'A', 'B', 'C'],\n",
    "        'price': ['$100', '$200', '$150', None, '$250'],\n",
    "        'date_str': ['2025-08-01','2025-08-02',None,'2025-08-04','2025-08-05'],\n",
    "        'category': ['Electronics','Furniture','Toys','Clothing',None]\n",
    "    })\n",
    "    df_demo.to_csv(csv_path, index=False)\n",
    "    print(f\"Demo CSV created at {csv_path}\")\n",
    "else:\n",
    "    print(f\"CSV already exists at {csv_path}\")"
   ]
  },
  {
   "cell_type": "code",
   "execution_count": 4,
   "metadata": {},
   "outputs": [
    {
     "name": "stdout",
     "output_type": "stream",
     "text": [
      "raw data：\n",
      "   numeric_col category_col price    date_str     category\n",
      "0         10.0            A  $100  2025-08-01  Electronics\n",
      "1          NaN            B  $200  2025-08-02    Furniture\n",
      "2         40.0            A  $150         NaN         Toys\n",
      "3         55.0            B   NaN  2025-08-04     Clothing\n",
      "4         70.0            C  $250  2025-08-05          NaN\n",
      "\n",
      "processed data：\n",
      "   numeric_col category_col     price   date_str     category\n",
      "0        0.000            A  0.000000 2025-08-01  Electronics\n",
      "1        0.625            B  0.666667 2025-08-02    Furniture\n",
      "2        0.500            A  0.333333        NaT         Toys\n",
      "3        0.750            B  0.500000 2025-08-04     Clothing\n",
      "4        1.000            C  1.000000 2025-08-05          NaN\n",
      "\n",
      "save the processed data to data/processed/instructor_clean.csv\n"
     ]
    }
   ],
   "source": [
    "os.makedirs(\"data/processed\", exist_ok=True)\n",
    "\n",
    "df = pd.read_csv(\"data/instructor_dirty.csv\")\n",
    "print(\"raw data：\")\n",
    "print(df)\n",
    "\n",
    "#pre-process\n",
    "df['price'] = df['price'].replace('[\\$,]', '', regex=True).astype(float)\n",
    "\n",
    "df['date_str'] = pd.to_datetime(df['date_str'], errors='coerce')\n",
    "\n",
    "df = cleaning.fill_missing_median(df, ['numeric_col', 'price'])\n",
    "df = cleaning.drop_missing(df, threshold=0.5)\n",
    "df = cleaning.normalize_data(df, ['numeric_col', 'price'])\n",
    "\n",
    "print(\"\\nprocessed data：\")\n",
    "print(df)\n",
    "\n",
    "df.to_csv(\"data/processed/instructor_clean.csv\", index=False)\n",
    "print(\"\\nsave the processed data to data/processed/instructor_clean.csv\")"
   ]
  }
 ],
 "metadata": {
  "kernelspec": {
   "display_name": "fe-course",
   "language": "python",
   "name": "python3"
  },
  "language_info": {
   "codemirror_mode": {
    "name": "ipython",
    "version": 3
   },
   "file_extension": ".py",
   "mimetype": "text/x-python",
   "name": "python",
   "nbconvert_exporter": "python",
   "pygments_lexer": "ipython3",
   "version": "3.11.13"
  }
 },
 "nbformat": 4,
 "nbformat_minor": 2
}
