{
 "cells": [
  {
   "cell_type": "code",
   "execution_count": 11,
   "id": "6943eaa7",
   "metadata": {},
   "outputs": [
    {
     "data": {
      "text/html": [
       "<div>\n",
       "<style scoped>\n",
       "    .dataframe tbody tr th:only-of-type {\n",
       "        vertical-align: middle;\n",
       "    }\n",
       "\n",
       "    .dataframe tbody tr th {\n",
       "        vertical-align: top;\n",
       "    }\n",
       "\n",
       "    .dataframe thead th {\n",
       "        text-align: right;\n",
       "    }\n",
       "</style>\n",
       "<table border=\"1\" class=\"dataframe\">\n",
       "  <thead>\n",
       "    <tr style=\"text-align: right;\">\n",
       "      <th></th>\n",
       "      <th>income</th>\n",
       "      <th>monthly_spend</th>\n",
       "      <th>credit_score</th>\n",
       "    </tr>\n",
       "  </thead>\n",
       "  <tbody>\n",
       "    <tr>\n",
       "      <th>0</th>\n",
       "      <td>86460</td>\n",
       "      <td>3129</td>\n",
       "      <td>661</td>\n",
       "    </tr>\n",
       "    <tr>\n",
       "      <th>1</th>\n",
       "      <td>66002</td>\n",
       "      <td>1191</td>\n",
       "      <td>668</td>\n",
       "    </tr>\n",
       "    <tr>\n",
       "      <th>2</th>\n",
       "      <td>74681</td>\n",
       "      <td>1237</td>\n",
       "      <td>734</td>\n",
       "    </tr>\n",
       "    <tr>\n",
       "      <th>3</th>\n",
       "      <td>93613</td>\n",
       "      <td>2581</td>\n",
       "      <td>712</td>\n",
       "    </tr>\n",
       "    <tr>\n",
       "      <th>4</th>\n",
       "      <td>88013</td>\n",
       "      <td>1296</td>\n",
       "      <td>712</td>\n",
       "    </tr>\n",
       "  </tbody>\n",
       "</table>\n",
       "</div>"
      ],
      "text/plain": [
       "   income  monthly_spend  credit_score\n",
       "0   86460           3129           661\n",
       "1   66002           1191           668\n",
       "2   74681           1237           734\n",
       "3   93613           2581           712\n",
       "4   88013           1296           712"
      ]
     },
     "execution_count": 11,
     "metadata": {},
     "output_type": "execute_result"
    }
   ],
   "source": [
    "import pandas as pd\n",
    "import numpy as np\n",
    "\n",
    "# Example synthetic data \n",
    "np.random.seed(0)\n",
    "n = 100\n",
    "df = pd.DataFrame({\n",
    "    'income': np.random.normal(60000, 15000, n).astype(int),\n",
    "    'monthly_spend': np.random.normal(2000, 600, n).astype(int),\n",
    "    'credit_score': np.random.normal(680, 50, n).astype(int)\n",
    "})\n",
    "df.head()\n"
   ]
  },
  {
   "cell_type": "code",
   "execution_count": 12,
   "id": "aed9f4b9",
   "metadata": {},
   "outputs": [
    {
     "data": {
      "text/html": [
       "<div>\n",
       "<style scoped>\n",
       "    .dataframe tbody tr th:only-of-type {\n",
       "        vertical-align: middle;\n",
       "    }\n",
       "\n",
       "    .dataframe tbody tr th {\n",
       "        vertical-align: top;\n",
       "    }\n",
       "\n",
       "    .dataframe thead th {\n",
       "        text-align: right;\n",
       "    }\n",
       "</style>\n",
       "<table border=\"1\" class=\"dataframe\">\n",
       "  <thead>\n",
       "    <tr style=\"text-align: right;\">\n",
       "      <th></th>\n",
       "      <th>income</th>\n",
       "      <th>monthly_spend</th>\n",
       "      <th>credit_score</th>\n",
       "      <th>spend_income_ratio</th>\n",
       "      <th>annual_spend</th>\n",
       "      <th>income_per_credit</th>\n",
       "    </tr>\n",
       "  </thead>\n",
       "  <tbody>\n",
       "    <tr>\n",
       "      <th>0</th>\n",
       "      <td>86460</td>\n",
       "      <td>3129</td>\n",
       "      <td>661</td>\n",
       "      <td>0.036190</td>\n",
       "      <td>37548</td>\n",
       "      <td>130.801815</td>\n",
       "    </tr>\n",
       "    <tr>\n",
       "      <th>1</th>\n",
       "      <td>66002</td>\n",
       "      <td>1191</td>\n",
       "      <td>668</td>\n",
       "      <td>0.018045</td>\n",
       "      <td>14292</td>\n",
       "      <td>98.805389</td>\n",
       "    </tr>\n",
       "    <tr>\n",
       "      <th>2</th>\n",
       "      <td>74681</td>\n",
       "      <td>1237</td>\n",
       "      <td>734</td>\n",
       "      <td>0.016564</td>\n",
       "      <td>14844</td>\n",
       "      <td>101.745232</td>\n",
       "    </tr>\n",
       "    <tr>\n",
       "      <th>3</th>\n",
       "      <td>93613</td>\n",
       "      <td>2581</td>\n",
       "      <td>712</td>\n",
       "      <td>0.027571</td>\n",
       "      <td>30972</td>\n",
       "      <td>131.478933</td>\n",
       "    </tr>\n",
       "    <tr>\n",
       "      <th>4</th>\n",
       "      <td>88013</td>\n",
       "      <td>1296</td>\n",
       "      <td>712</td>\n",
       "      <td>0.014725</td>\n",
       "      <td>15552</td>\n",
       "      <td>123.613764</td>\n",
       "    </tr>\n",
       "  </tbody>\n",
       "</table>\n",
       "</div>"
      ],
      "text/plain": [
       "   income  monthly_spend  credit_score  spend_income_ratio  annual_spend  \\\n",
       "0   86460           3129           661            0.036190         37548   \n",
       "1   66002           1191           668            0.018045         14292   \n",
       "2   74681           1237           734            0.016564         14844   \n",
       "3   93613           2581           712            0.027571         30972   \n",
       "4   88013           1296           712            0.014725         15552   \n",
       "\n",
       "   income_per_credit  \n",
       "0         130.801815  \n",
       "1          98.805389  \n",
       "2         101.745232  \n",
       "3         131.478933  \n",
       "4         123.613764  "
      ]
     },
     "execution_count": 12,
     "metadata": {},
     "output_type": "execute_result"
    }
   ],
   "source": [
    "# Feature 1: Spend to Income Ratio\n",
    "df['spend_income_ratio'] = df['monthly_spend'] / df['income']\n",
    "\n",
    "# Feature 2: Annual Spend\n",
    "df['annual_spend'] = df['monthly_spend'] * 12\n",
    "\n",
    "# Feature 3 (optional, bonus): Income per Credit Point\n",
    "df['income_per_credit'] = df['income'] / df['credit_score']\n",
    "\n",
    "df.head()\n"
   ]
  },
  {
   "cell_type": "markdown",
   "id": "91a92f15",
   "metadata": {},
   "source": [
    "Rationale for Feature “Spend to Income Ratio”\n",
    "——The spend-to-income ratio captures the proportion of spending relative to income.From our EDA, we saw variability in spending patterns, and this feature helps the model understand whether someone spends conservatively or aggressively compared to their earnings. This can be important for predicting financial stability or creditworthiness."
   ]
  },
  {
   "cell_type": "markdown",
   "id": "a7aff8c2",
   "metadata": {},
   "source": [
    "Rationale for Feature “Annual Spend”\n",
    "——The annual spend is a simple transformation of monthly spending, but it gives the model a long-term view of consumer behavior.Instead of only looking at short-term values, this cumulative metric aligns better with income and long-term financial commitments."
   ]
  },
  {
   "cell_type": "markdown",
   "id": "d58c0b32",
   "metadata": {},
   "source": [
    "Rationale for Feature “Income per Credit Point”\n",
    "——The income per credit point feature normalizes income by credit score.This can capture whether a high income also correlates with a strong credit score, or whether discrepancies exist.Such mismatches may provide useful predictive power."
   ]
  }
 ],
 "metadata": {
  "kernelspec": {
   "display_name": "fe-course",
   "language": "python",
   "name": "python3"
  },
  "language_info": {
   "codemirror_mode": {
    "name": "ipython",
    "version": 3
   },
   "file_extension": ".py",
   "mimetype": "text/x-python",
   "name": "python",
   "nbconvert_exporter": "python",
   "pygments_lexer": "ipython3",
   "version": "3.11.13"
  }
 },
 "nbformat": 4,
 "nbformat_minor": 5
}
