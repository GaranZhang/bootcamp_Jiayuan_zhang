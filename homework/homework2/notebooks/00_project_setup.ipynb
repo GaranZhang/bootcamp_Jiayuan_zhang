{
 "cells": [
  {
   "cell_type": "code",
   "execution_count": 9,
   "id": "7b450916",
   "metadata": {},
   "outputs": [],
   "source": [
    "# Environment & Config Check\n"
   ]
  },
  {
   "cell_type": "code",
   "execution_count": 10,
   "id": "f88ee9d8",
   "metadata": {},
   "outputs": [],
   "source": [
    "import sys\n",
    "import numpy as np\n",
    "\n",
    "sys.path.append(\"/Users/10341/bootcamp_Jiayuan_Zhang/homework/homework2/\")\n",
    "\n",
    "from src.config import load_env, get_key\n",
    "\n",
    "# 加载 .env\n",
    "load_env()\n"
   ]
  },
  {
   "cell_type": "code",
   "execution_count": 11,
   "id": "c035b5df",
   "metadata": {},
   "outputs": [
    {
     "name": "stdout",
     "output_type": "stream",
     "text": [
      "API_KEY present: False\n"
     ]
    }
   ],
   "source": [
    "api_key = get_key(\"API_KEY\")\n",
    "print(f\"API_KEY present: {api_key is not None}\")\n"
   ]
  },
  {
   "cell_type": "code",
   "execution_count": 12,
   "id": "ca165656",
   "metadata": {},
   "outputs": [
    {
     "name": "stdout",
     "output_type": "stream",
     "text": [
      "Array: [1 2 3 4]\n",
      "Array + 5: [6 7 8 9]\n"
     ]
    }
   ],
   "source": [
    "arr = np.array([1, 2, 3, 4])\n",
    "print(\"Array:\", arr)\n",
    "print(\"Array + 5:\", arr + 5)\n"
   ]
  }
 ],
 "metadata": {
  "kernelspec": {
   "display_name": "fe-course",
   "language": "python",
   "name": "python3"
  },
  "language_info": {
   "codemirror_mode": {
    "name": "ipython",
    "version": 3
   },
   "file_extension": ".py",
   "mimetype": "text/x-python",
   "name": "python",
   "nbconvert_exporter": "python",
   "pygments_lexer": "ipython3",
   "version": "3.11.13"
  }
 },
 "nbformat": 4,
 "nbformat_minor": 5
}
